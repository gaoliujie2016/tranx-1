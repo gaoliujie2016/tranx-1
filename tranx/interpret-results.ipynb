{
 "cells": [
  {
   "cell_type": "code",
   "execution_count": 50,
   "metadata": {},
   "outputs": [],
   "source": [
    "import argparse\n",
    "import os\n",
    "import sys\n",
    "import random\n",
    "\n",
    "import pickle\n",
    "import torch\n",
    "from pprint import pprint\n",
    "\n",
    "import common.cli_logger as cli_logger\n",
    "import evaluation\n",
    "from common.registerable import Registrable\n",
    "from common.utils import dump_cfg, init_cfg\n",
    "from components.dataset import Dataset\n",
    "import model.parser\n",
    "\n",
    "# Evaluators\n",
    "import datasets.conala.conala_evaluator as conala_evaluator\n",
    "import datasets.django.django_evaluator as django_evaluator"
   ]
  },
  {
   "cell_type": "markdown",
   "metadata": {},
   "source": [
    "## CoNaLa"
   ]
  },
  {
   "cell_type": "code",
   "execution_count": 74,
   "metadata": {},
   "outputs": [],
   "source": [
    "file_path = './experiments/conala.test.decode'\n",
    "test_data = Dataset.from_bin_file('../tranx-data/data/conala/test_2.var_str_sep.bin')"
   ]
  },
  {
   "cell_type": "code",
   "execution_count": 75,
   "metadata": {},
   "outputs": [],
   "source": [
    "decoded = pickle.load(open(file_path, 'rb'))\n",
    "assert len(test_data) == len(decoded)"
   ]
  },
  {
   "cell_type": "code",
   "execution_count": 186,
   "metadata": {},
   "outputs": [
    {
     "name": "stdout",
     "output_type": "stream",
     "text": [
      "264\n",
      "NL: find 10 largest differences between each respective elements of list var_0 and list var_1\n",
      "target code: heapq.nlargest(10, range(len(var_0)), key=lambda i: abs(var_0[i] - var_1[i]))\n"
     ]
    },
    {
     "data": {
      "text/plain": [
       "['[(a + b) for a, b in zip(var_0, var_1)]',\n",
       " '[max(x) for x in var_0]',\n",
       " '[map(int, var_0) for x in var_1]',\n",
       " '[(a + y) for a, y in zip(var_0, var_1)]',\n",
       " '[max(x) for x in var_1]',\n",
       " '[(a + b) for a, y in zip(var_0, var_1)]',\n",
       " '[item for x in var_0 if x[1] == 10]',\n",
       " '[(a + y) for a, b in zip(var_0, var_1)]',\n",
       " '[max(map(int, x) for x in var_1) for x in var_1]',\n",
       " '[dict(map(int, x) for x in var_1) for x in var_1]',\n",
       " '[sum(map(int, x) for x in var_1) for x in var_1]',\n",
       " '[dict(map(int, int) for x in var_1) for x in var_1]',\n",
       " '[x for y, x in enumerate(var_0) if x in var_1]',\n",
       " '[dict(map(int, x) for x in var_1) for i in var_1]']"
      ]
     },
     "execution_count": 186,
     "metadata": {},
     "output_type": "execute_result"
    }
   ],
   "source": [
    "i = random.randint(0, len(decoded))\n",
    "\n",
    "print(i)\n",
    "print(\"NL:\", \" \".join(test_data.examples[i].src_sent))\n",
    "print(\"target code:\", test_data.examples[i].tgt_code)\n",
    "\n",
    "[x.code for x in decoded[i]]"
   ]
  },
  {
   "cell_type": "code",
   "execution_count": 214,
   "metadata": {},
   "outputs": [],
   "source": [
    "correct = []\n",
    "for i in range(len(decoded)):\n",
    "    correct.extend([x for x in decoded[i] if x.is_correct])"
   ]
  },
  {
   "cell_type": "markdown",
   "metadata": {},
   "source": [
    "## Django"
   ]
  },
  {
   "cell_type": "code",
   "execution_count": 191,
   "metadata": {},
   "outputs": [],
   "source": [
    "file_path = './experiments/django.test.decode'\n",
    "test_data = Dataset.from_bin_file('../tranx-data/data/django/test_2.bin')"
   ]
  },
  {
   "cell_type": "code",
   "execution_count": 192,
   "metadata": {},
   "outputs": [],
   "source": [
    "decoded = pickle.load(open(file_path, 'rb'))\n",
    "assert len(test_data) == len(decoded)"
   ]
  },
  {
   "cell_type": "code",
   "execution_count": 216,
   "metadata": {},
   "outputs": [
    {
     "name": "stdout",
     "output_type": "stream",
     "text": [
      "1446\n",
      "define the function blankout with 2 arguments : src and char . \n",
      "\n",
      "def blankout(src, char):\n",
      "    pass\n"
     ]
    },
    {
     "data": {
      "text/plain": [
       "['def blankout(src, char):\\n    pass',\n",
       " 'def blankout(src, char, *args):\\n    pass',\n",
       " 'def blankout(src, char, **kwargs):\\n    pass',\n",
       " 'def blankout(src, char, *args, **kwargs):\\n    pass',\n",
       " 'def blankout(src, char=None, *args, **kwargs):\\n    pass',\n",
       " 'def blankout(src, char, *char):\\n    pass',\n",
       " 'def blankout(src, char, *char, **kwargs):\\n    pass',\n",
       " 'def blankout(src, char, **args):\\n    pass',\n",
       " 'def blankout(src, char=[], *args, **kwargs):\\n    pass',\n",
       " 'def blankout(src, char=(), *args, **kwargs):\\n    pass',\n",
       " 'def blankout(src, char, **blankout):\\n    pass',\n",
       " 'def blankout(src, char, **options):\\n    pass',\n",
       " 'def blankout(src, char=1, *args, **kwargs):\\n    pass',\n",
       " \"def blankout(src, char='', *args, **kwargs):\\n    pass\",\n",
       " 'def blankout(src, char=blankout(src), *args, **kwargs):\\n    pass']"
      ]
     },
     "execution_count": 216,
     "metadata": {},
     "output_type": "execute_result"
    }
   ],
   "source": [
    "i = random.randint(0, len(decoded))\n",
    "\n",
    "print(i)\n",
    "print(\" \".join(test_data.examples[i].src_sent), \"\\n\")\n",
    "print(test_data.examples[i].tgt_code)\n",
    "\n",
    "[x.code for x in decoded[i]]"
   ]
  },
  {
   "cell_type": "code",
   "execution_count": 217,
   "metadata": {},
   "outputs": [
    {
     "name": "stdout",
     "output_type": "stream",
     "text": [
      "Getting registered default_parser\n",
      "module 'model' has no attribute 'transition_system'\n",
      "module 'model' has no attribute 'transition_system'\n",
      "module 'model' has no attribute 'transition_system'\n",
      "module 'model' has no attribute 'transition_system'\n",
      "module 'model' has no attribute 'transition_system'\n",
      "module 'model' has no attribute 'transition_system'\n",
      "module 'model' has no attribute 'transition_system'\n",
      "module 'model' has no attribute 'transition_system'\n",
      "module 'model' has no attribute 'transition_system'\n",
      "module 'model' has no attribute 'transition_system'\n",
      "module 'model' has no attribute 'transition_system'\n",
      "module 'model' has no attribute 'transition_system'\n",
      "module 'model' has no attribute 'transition_system'\n",
      "module 'model' has no attribute 'transition_system'\n",
      "module 'model' has no attribute 'transition_system'\n"
     ]
    }
   ],
   "source": [
    "parser_cls = Registrable.by_name('default_parser')\n",
    "parser = parser_cls.load(model_path='../tranx-data/data/pretrained_models/django_2.bin', cuda=False)\n",
    "parser.eval()\n",
    "\n",
    "sent = \"substitute 1 for x\".split()\n",
    "sent = test_data.examples[random.randint(0, len(test_data))].src_sent\n",
    "hyps = parser.parse(sent, context=None, beam_size=15)\n",
    "\n",
    "assert len(hyps) > 0\n",
    "\n",
    "hyps\n",
    "\n",
    "for i, hyp in enumerate(hyps):\n",
    "    got_code = False\n",
    "\n",
    "    try:\n",
    "        hyp.code = model.transition_system.ast_to_surface_code(hyp.tree)\n",
    "        print(\"ok >\", hyp.code, \"\\n\")\n",
    "    except Exception as e:\n",
    "        print(e)"
   ]
  }
 ],
 "metadata": {
  "kernelspec": {
   "display_name": "Python 3",
   "language": "python",
   "name": "python3"
  },
  "language_info": {
   "codemirror_mode": {
    "name": "ipython",
    "version": 3
   },
   "file_extension": ".py",
   "mimetype": "text/x-python",
   "name": "python",
   "nbconvert_exporter": "python",
   "pygments_lexer": "ipython3",
   "version": "3.7.2"
  }
 },
 "nbformat": 4,
 "nbformat_minor": 2
}
