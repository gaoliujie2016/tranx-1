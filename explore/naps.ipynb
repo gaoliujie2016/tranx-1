{
 "cells": [
  {
   "cell_type": "code",
   "execution_count": 1,
   "metadata": {},
   "outputs": [],
   "source": [
    "import json\n",
    "import argparse\n",
    "from pprint import pprint\n",
    "import random\n",
    "import numpy as np"
   ]
  },
  {
   "cell_type": "code",
   "execution_count": 2,
   "metadata": {},
   "outputs": [],
   "source": [
    "train_file_A = '../datasets/naps/naps.trainA.1.0.jsonl' # 5.9G\n",
    "train_file_B = '../datasets/naps/naps.trainB.1.0.jsonl'\n",
    "test_file = '../datasets/naps.test.1.0.jsonl'"
   ]
  },
  {
   "cell_type": "code",
   "execution_count": 3,
   "metadata": {},
   "outputs": [],
   "source": [
    "def get_by_key(example, key):\n",
    "    if isinstance(example[key], str):\n",
    "        ch = \" \" if key in ['text', 'code_sequence'] else \"\"\n",
    "        return ch.join(example[key])\n",
    "    else:\n",
    "        return example[key]\n",
    "\n",
    "def get_all_by_key(data, key):\n",
    "    return [get_by_key(d, key) for d in data]"
   ]
  },
  {
   "cell_type": "code",
   "execution_count": 4,
   "metadata": {},
   "outputs": [
    {
     "data": {
      "text/plain": [
       "['solution_id',\n",
       " 'problem_id',\n",
       " 'is_train',\n",
       " 'return_type',\n",
       " 'url',\n",
       " 'is_partial',\n",
       " 'passes_tests',\n",
       " 'entry_id',\n",
       " 'code_sequence',\n",
       " 'tests',\n",
       " 'text',\n",
       " 'language',\n",
       " 'args',\n",
       " 'code_tree']"
      ]
     },
     "execution_count": 4,
     "metadata": {},
     "output_type": "execute_result"
    }
   ],
   "source": [
    "lines = [l.strip() for l in open(train_file_B, \"rt\").readlines()]\n",
    "data = [dict(json.loads(l)) for l in lines]\n",
    "\n",
    "keys = list(data[0].keys())\n",
    "keys"
   ]
  },
  {
   "cell_type": "code",
   "execution_count": 5,
   "metadata": {},
   "outputs": [
    {
     "data": {
      "text/plain": [
       "'given integers var3 , var4 . initialize var5 to 0 , var2 to 62 . while var3 - th bit of var2 equals to var4 - th bit of var2 , decrease var2 by 1 .'"
      ]
     },
     "execution_count": 5,
     "metadata": {},
     "output_type": "execute_result"
    }
   ],
   "source": [
    "idx = 12\n",
    "\n",
    "\" \".join(get_by_key(data[idx], key='text'))"
   ]
  }
 ],
 "metadata": {
  "kernelspec": {
   "display_name": "Python 3",
   "language": "python",
   "name": "python3"
  },
  "language_info": {
   "codemirror_mode": {
    "name": "ipython",
    "version": 3
   },
   "file_extension": ".py",
   "mimetype": "text/x-python",
   "name": "python",
   "nbconvert_exporter": "python",
   "pygments_lexer": "ipython3",
   "version": "3.7.2"
  }
 },
 "nbformat": 4,
 "nbformat_minor": 2
}
