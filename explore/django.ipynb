{
 "cells": [
  {
   "cell_type": "code",
   "execution_count": 9,
   "metadata": {},
   "outputs": [],
   "source": [
    "import json\n",
    "import argparse\n",
    "import code\n",
    "from pprint import pprint\n",
    "from termcolor import colored\n",
    "import re\n",
    "import random\n",
    "import matplotlib.pyplot as plt\n",
    "import numpy as np\n",
    "from collections import namedtuple\n",
    "\n",
    "import numpy as np\n",
    "from typing import Dict, Any"
   ]
  },
  {
   "cell_type": "code",
   "execution_count": 3,
   "metadata": {},
   "outputs": [],
   "source": [
    "code_file = '../raw-datasets/django/all.code'\n",
    "anno_file = '../raw-datasets/django/all.anno'"
   ]
  },
  {
   "cell_type": "code",
   "execution_count": 17,
   "metadata": {},
   "outputs": [],
   "source": [
    "code_lines = [l.strip() for l in open(code_file, \"rt\").readlines()]\n",
    "anno_lines = [l.strip() for l in open(anno_file, \"rt\").readlines()]\n",
    "\n",
    "assert len(code_lines) == len(anno_lines)\n",
    "\n",
    "example = namedtuple(\"Example\", [\"code\", \"label\"])\n",
    "\n",
    "data = list(map(lambda x : example(*x), zip(code_lines, anno_lines)))"
   ]
  },
  {
   "cell_type": "code",
   "execution_count": 42,
   "metadata": {},
   "outputs": [
    {
     "name": "stdout",
     "output_type": "stream",
     "text": [
      "code:\t except NotImplementedError : \n",
      "label:\t if NotImplementedError exception is caught, \n",
      " ----------------\n",
      "code:\t for bit in smart_split_re . finditer ( text ) : \n",
      "label:\t call the method smart_split_re.finditer with an argument text, for every bit in result, \n",
      " ----------------\n",
      "code:\t parser . add_argument ( '--database' , default = DEFAULT_DB_ALIAS ,  help = 'Nominates a database to print the SQL for. Defaults to the '  '\"default\" database.' ) \n",
      "label:\t call the add_argument method on parser object, use string '--database', default set to DEFAULT_DB_ALIAS and help set to string, \n",
      " ----------------\n",
      "code:\t self . cdata_tag = None \n",
      "label:\t set field cdata_tag for this class instance to None. \n",
      " ----------------\n",
      "code:\t return len ( self . items ) \n",
      "label:\t return length of self.items. \n",
      " ----------------\n",
      "code:\t return '' . join ( base36 ) \n",
      "label:\t join elements of base36 into a string, return it. \n",
      " ----------------\n",
      "code:\t defaults . update ( kwargs ) \n",
      "label:\t update defaults dictionary with kwargs. \n",
      " ----------------\n",
      "code:\t literal_match = self . literal_regex . match ( domain_part ) \n",
      "label:\t evaluate method self.literal_regex.match with an argument domain_part, substitute the result for literal_match. \n",
      " ----------------\n",
      "code:\t def clear ( self ) : \n",
      "label:\t define the method clear with argument self. \n",
      " ----------------\n",
      "code:\t return hmac . compare_digest ( force_bytes ( val1 ) , force_bytes ( val2 ) ) \n",
      "label:\t call the function hmac.compare_digest with 2 arguments: result of the function force_bytes called with an argument val1, \n",
      " ----------------\n"
     ]
    }
   ],
   "source": [
    "for _ in range(10):\n",
    "    _x = random.sample(data, 1)[0]\n",
    "    print(\"code:\\t\", _x.code, \"\\nlabel:\\t\", _x.label, \"\\n\", \"-\"*16)"
   ]
  }
 ],
 "metadata": {
  "kernelspec": {
   "display_name": "Python 3",
   "language": "python",
   "name": "python3"
  },
  "language_info": {
   "codemirror_mode": {
    "name": "ipython",
    "version": 3
   },
   "file_extension": ".py",
   "mimetype": "text/x-python",
   "name": "python",
   "nbconvert_exporter": "python",
   "pygments_lexer": "ipython3",
   "version": "3.7.2"
  }
 },
 "nbformat": 4,
 "nbformat_minor": 2
}
