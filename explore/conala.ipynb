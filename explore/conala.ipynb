{
 "cells": [
  {
   "cell_type": "code",
   "execution_count": 2,
   "metadata": {},
   "outputs": [],
   "source": [
    "import json\n",
    "import argparse\n",
    "import code\n",
    "from pprint import pprint\n",
    "from termcolor import colored\n",
    "import re\n",
    "import random\n",
    "\n",
    "import numpy as np\n",
    "from typing import Dict, Any"
   ]
  },
  {
   "cell_type": "code",
   "execution_count": 3,
   "metadata": {},
   "outputs": [],
   "source": [
    "train_file = '../raw-datasets/conala-corpus/conala-train.json'\n",
    "test_file = '../raw-datasets/conala-corpus/conala-test.json'"
   ]
  },
  {
   "cell_type": "code",
   "execution_count": 4,
   "metadata": {},
   "outputs": [],
   "source": [
    "keywords = [\n",
    "    \"django\", \"os.\", \"urllib.\", \"sys.\", \"scipy.\", \"numpy.\",\n",
    "    \"pickle.\", \"struct.\", \"subprocess.\", \"datetime.\", \"time.\",\n",
    "    \"request.\", \"re.\", \"map(\", \"filter(\", \"reduce(\",\n",
    "    \"print(\"\n",
    "]\n",
    "\n",
    "def get_unique(xs):\n",
    "    u, c = np.unique(xs, return_counts=True)\n",
    "    _c = np.argsort(-c)\n",
    "\n",
    "    return u[_c], c[_c]\n",
    "\n",
    "def query_by_key(data: Dict[str, Any], key):\n",
    "    return [data[i][key] for i in range(len(data))]\n",
    "\n",
    "def get_by_qid(data: Dict[str, Any], qid: int):\n",
    "    return list(filter(lambda ex: ex[\"question_id\"] == qid, data))\n",
    "\n",
    "def get_by_keywords(data: Dict[str, Any]):\n",
    "    xs = {l: [] for l in keywords}\n",
    "\n",
    "    for q in data:\n",
    "        i = q[\"intent\"]\n",
    "        ri = q[\"rewritten_intent\"]\n",
    "        s = q[\"snippet\"]\n",
    "        for l in keywords:\n",
    "            if (i and l in i) or (ri and l in ri) or (s and l in s):\n",
    "                xs[l].append(q)\n",
    "\n",
    "    return xs"
   ]
  },
  {
   "cell_type": "code",
   "execution_count": 5,
   "metadata": {},
   "outputs": [
    {
     "name": "stdout",
     "output_type": "stream",
     "text": [
      "There are 1710 unique ids\n"
     ]
    }
   ],
   "source": [
    "data = json.load(open(train_file, \"rt\"))\n",
    "keys = data[0].keys()\n",
    "\n",
    "uids, cuids = get_unique(query_by_key(data, \"question_id\"))\n",
    "\n",
    "print(f\"There are {uids.size} unique ids\")"
   ]
  },
  {
   "cell_type": "code",
   "execution_count": 6,
   "metadata": {},
   "outputs": [
    {
     "name": "stdout",
     "output_type": "stream",
     "text": [
      "2379\n",
      "re. -> 177(7.44%)\n",
      "print( -> 163(6.852%)\n",
      "os. -> 111(4.666%)\n",
      "time. -> 71(2.984%)\n",
      "datetime. -> 58(2.438%)\n",
      "map( -> 48(2.018%)\n",
      "subprocess. -> 29(1.219%)\n",
      "django -> 25(1.051%)\n",
      "numpy. -> 24(1.009%)\n",
      "sys. -> 22(0.925%)\n",
      "request. -> 22(0.925%)\n",
      "urllib. -> 19(0.799%)\n",
      "filter( -> 17(0.715%)\n",
      "struct. -> 11(0.462%)\n",
      "scipy. -> 2(0.084%)\n",
      "pickle. -> 2(0.084%)\n",
      "reduce( -> 2(0.084%)\n",
      "\n"
     ]
    }
   ],
   "source": [
    "xs = get_by_keywords(data)\n",
    "print(len(data))\n",
    "\n",
    "for l, qs in sorted(xs.items(), key=lambda k : len(k[1]), reverse=True):\n",
    "    print(f\"{l} -> {len(qs)}({round(100.0 * len(qs)/len(data), 3)}%)\")\n",
    "print()\n",
    "\n",
    "# for l, qs in xs.items():\n",
    "#     print(colored(l, \"green\"))\n",
    "#     for q in qs[:2]:\n",
    "#         pprint(q)\n",
    "#         print()"
   ]
  },
  {
   "cell_type": "code",
   "execution_count": null,
   "metadata": {},
   "outputs": [],
   "source": [
    "# for i, uid in enumerate(uids, start=1):\n",
    "#     print(f\"{i}:\")\n",
    "#     for q in get_by_qid(data, uid):\n",
    "#         print(\"> \", q[\"rewritten_intent\"])\n",
    "#         print(\"> \", q[\"snippet\"])\n",
    "#         print()\n",
    "#     print(\"-\"*32)"
   ]
  },
  {
   "cell_type": "code",
   "execution_count": 7,
   "metadata": {},
   "outputs": [],
   "source": [
    "QUOTED_TOKEN_RE = re.compile(r\"(?P<quote>''|[`'\\\"])(?P<string>.*?)(?P=quote)\")\n",
    "\n",
    "\n",
    "def infer_slot_type(quote, value):\n",
    "    if quote == '`' and value.isidentifier():\n",
    "        return 'var'\n",
    "    return 'str'\n",
    "\n",
    "\n",
    "def canonicalize_intent(intent):\n",
    "    # handle the following special case: quote is `''`\n",
    "    marked_token_matches = QUOTED_TOKEN_RE.findall(intent)\n",
    "\n",
    "    slot_map = dict()\n",
    "    var_id = 0\n",
    "    str_id = 0\n",
    "    for match in marked_token_matches:\n",
    "        quote = match[0]\n",
    "        value = match[1]\n",
    "        quoted_value = quote + value + quote\n",
    "\n",
    "        # try:\n",
    "        #     # if it's a number, then keep it and leave it to the copy mechanism\n",
    "        #     float(value)\n",
    "        #     intent = intent.replace(quoted_value, value)\n",
    "        #     continue\n",
    "        # except:\n",
    "        #     pass\n",
    "\n",
    "        slot_type = infer_slot_type(quote, value)\n",
    "\n",
    "        if slot_type == 'var':\n",
    "            slot_name = 'var_%d' % var_id\n",
    "            var_id += 1\n",
    "            slot_type = 'var'\n",
    "        else:\n",
    "            slot_name = 'str_%d' % str_id\n",
    "            str_id += 1\n",
    "            slot_type = 'str'\n",
    "\n",
    "        # slot_id = len(slot_map)\n",
    "        # slot_name = 'slot_%d' % slot_id\n",
    "        # # make sure slot_name is also unicode\n",
    "        # slot_name = unicode(slot_name)\n",
    "\n",
    "        intent = intent.replace(quoted_value, slot_name)\n",
    "        slot_map[slot_name] = {'value': value.strip().encode().decode('unicode_escape', 'ignore'),\n",
    "                               'quote': quote,\n",
    "                               'type' : slot_type}\n",
    "\n",
    "    return intent, slot_map"
   ]
  },
  {
   "cell_type": "code",
   "execution_count": 10,
   "metadata": {},
   "outputs": [
    {
     "name": "stdout",
     "output_type": "stream",
     "text": [
      "click on the text button 'section-select-all' using selenium python\n",
      "---\n",
      "click on the text button str_0 using selenium python\n",
      "---\n",
      "{'str_0': {'quote': \"'\", 'type': 'str', 'value': 'section-select-all'}}\n"
     ]
    }
   ],
   "source": [
    "x = random.sample(data, 1)[0]\n",
    "i = x['rewritten_intent'] if x['rewritten_intent'] is not None else x['intent']\n",
    "print(i)\n",
    "print(\"---\")\n",
    "\n",
    "i, s = canonicalize_intent(x['rewritten_intent'])\n",
    "\n",
    "print(i)\n",
    "print(\"---\")\n",
    "\n",
    "pprint(s)"
   ]
  }
 ],
 "metadata": {
  "kernelspec": {
   "display_name": "Python 3",
   "language": "python",
   "name": "python3"
  },
  "language_info": {
   "codemirror_mode": {
    "name": "ipython",
    "version": 3
   },
   "file_extension": ".py",
   "mimetype": "text/x-python",
   "name": "python",
   "nbconvert_exporter": "python",
   "pygments_lexer": "ipython3",
   "version": "3.7.2"
  }
 },
 "nbformat": 4,
 "nbformat_minor": 2
}
